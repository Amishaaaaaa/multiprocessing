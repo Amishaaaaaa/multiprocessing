{
 "cells": [
  {
   "cell_type": "code",
   "execution_count": null,
   "id": "d025dcf5-3ee8-4e8c-ae7f-cd1ca320ba86",
   "metadata": {},
   "outputs": [],
   "source": [
    "#Q1. What is multiprocessing in python? Why is it useful?\n",
    "\n",
    "'''\n",
    "Multiprocessing in Python refers to the ability to run multiple processes concurrently, each having its own instance of the Python interpreter.\n",
    "It allows you to leverage multiple CPU cores or processors to perform parallel execution of tasks, thereby increasing the computational power and \n",
    "efficiency of your program.\n",
    "\n",
    "Here are some reasons why multiprocessing is useful in Python:\n",
    "\n",
    "Increased Performance: By utilizing multiple processes, multiprocessing enables parallel execution of tasks. This can significantly speed up CPU-bound\n",
    "operations and computationally intensive tasks, as the workload is divided among different processes, effectively making use of all available CPU \n",
    "cores.\n",
    "\n",
    "Improved Responsiveness: Multiprocessing can enhance the responsiveness of an application by offloading time-consuming tasks to separate processes. \n",
    "This allows the main process to remain responsive and handle user interactions or other critical operations without being blocked.\n",
    "\n",
    "Simplified Parallelism: Python's multiprocessing module provides a high-level interface for creating and managing processes. It abstracts away the \n",
    "complexities of low-level process management, making it easier to introduce parallelism into your code.\n",
    "'''"
   ]
  },
  {
   "cell_type": "code",
   "execution_count": null,
   "id": "f0bae43a-0a6f-4509-8f76-dcbf2fe3a2a6",
   "metadata": {},
   "outputs": [],
   "source": [
    "#Q2. What are the differences between multiprocessing and multithreading?\n",
    "\n",
    "'''\n",
    "Multiprocessing and multithreading are two different approaches to achieving concurrent execution in a program. Here are the key differences \n",
    "between them:\n",
    "\n",
    "Execution Model:\n",
    "\n",
    "Multiprocessing: In multiprocessing, multiple processes are created, each with its own instance of the Python interpreter. These processes run \n",
    "independently and can execute tasks concurrently on different CPU cores or processors. Each process has its own memory space and resources, and\n",
    "communication between processes usually involves inter-process communication (IPC) mechanisms.\n",
    "Multithreading: In multithreading, multiple threads are created within a single process, sharing the same memory space and resources. Threads run\n",
    "concurrently and can perform tasks simultaneously, utilizing the available CPU time. Threads within the same process communicate through shared \n",
    "data structures and variables.\n",
    "CPU Utilization:\n",
    "\n",
    "Multiprocessing: Multiprocessing can fully utilize multiple CPU cores or processors by executing processes in parallel. Each process runs \n",
    "independently and can be scheduled on different cores, enabling true parallel execution and potentially improving overall performance for \n",
    "CPU-bound tasks.\n",
    "Multithreading: Multithreading can utilize multiple CPU cores to some extent, but due to the Global Interpreter Lock (GIL) in Python, only one \n",
    "thread can execute Python bytecode at a time within a single process. This means that threads cannot achieve true parallelism for CPU-bound tasks \n",
    "in Python, limiting the benefits of multi-core systems. However, threads can still be useful for I/O-bound tasks where threads can be blocked waiting\n",
    "for I/O operations to complete.\n",
    "'''"
   ]
  },
  {
   "cell_type": "code",
   "execution_count": 1,
   "id": "5f6bb9f7-a9cd-44ca-bcfe-c44891e79ae1",
   "metadata": {},
   "outputs": [
    {
     "name": "stdout",
     "output_type": "stream",
     "text": [
      "worker process executing\n",
      "Main process exiting\n"
     ]
    }
   ],
   "source": [
    "#Q3. Write a python code to create a process using the multiprocessing module.\n",
    "\n",
    "import multiprocessing\n",
    "def worker():\n",
    "    print(\"worker process executing\")\n",
    "\n",
    "if __name__=='__main__':\n",
    "    process=multiprocessing.Process(target=worker)\n",
    "    process.start()\n",
    "    process.join()\n",
    "    \n",
    "    print(\"Main process exiting\")"
   ]
  },
  {
   "cell_type": "code",
   "execution_count": null,
   "id": "f2fc1c7b-a123-4f18-be12-b2bdaff4e4f2",
   "metadata": {},
   "outputs": [],
   "source": [
    "#Q4. What is a multiprocessing pool in python? Why is it used?\n",
    "\n",
    "'''\n",
    "A multiprocessing pool in Python, specifically the multiprocessing.Pool class, is a mechanism provided by the multiprocessing module that allows for\n",
    "the creation of a pool of worker processes. This pool is designed to efficiently distribute tasks among the available processes, enabling parallel\n",
    "execution and improving the overall performance of concurrent tasks.\n",
    "\n",
    "Here are the main features and uses of a multiprocessing pool:\n",
    "\n",
    "Task Distribution: A pool abstracts the management of worker processes and handles the distribution of tasks across the available processes \n",
    "automatically. It provides a convenient interface for submitting tasks to the pool without having to manually manage individual processes.\n",
    "\n",
    "Process Reusability: A pool is designed to reuse worker processes for multiple tasks, which helps reduce the overhead of creating and terminating\n",
    "processes for each task. By keeping the processes alive between tasks, the pool improves efficiency and reduces the time spent on process creation.\n",
    "\n",
    "Task Parallelism: With a multiprocessing pool, multiple tasks can be executed concurrently by utilizing the available processes in parallel. \n",
    "Each task is assigned to an idle worker process in the pool, allowing for efficient utilization of CPU resources and faster execution of tasks.\n",
    "'''"
   ]
  },
  {
   "cell_type": "code",
   "execution_count": 2,
   "id": "a42160df-6356-42d4-9db0-5c8e2ef6df94",
   "metadata": {},
   "outputs": [
    {
     "name": "stdout",
     "output_type": "stream",
     "text": [
      "[2, 4, 6, 8, 10]\n"
     ]
    }
   ],
   "source": [
    "#Q5. How can we create a pool of worker processes in python using the multiprocessing module?\n",
    "\n",
    "import multiprocessing\n",
    "\n",
    "def worker_function(task):\n",
    "    \"\"\"Function to be executed by worker processes.\"\"\"\n",
    "    result = task * 2\n",
    "    return result\n",
    "\n",
    "if __name__ == \"__main__\":\n",
    "    # Create a multiprocessing pool with 3 worker processes\n",
    "    pool = multiprocessing.Pool(processes=3)\n",
    "\n",
    "    # Submit tasks to the pool for processing\n",
    "    tasks = [1, 2, 3, 4, 5]\n",
    "    results = pool.map(worker_function, tasks)\n",
    "\n",
    "    # Close the pool and wait for all processes to finish\n",
    "    pool.close()\n",
    "    pool.join()\n",
    "\n",
    "    # Print the results\n",
    "    print(results)\n"
   ]
  },
  {
   "cell_type": "code",
   "execution_count": 3,
   "id": "ac64a25b-9fb3-4f50-8b1b-1ab05130e797",
   "metadata": {},
   "outputs": [
    {
     "name": "stdout",
     "output_type": "stream",
     "text": [
      "Process ID: 2542, Number: 1\n",
      "Process ID: 2545, Number: 2\n",
      "Process ID: 2552, Number: 3\n",
      "Process ID: 2555, Number: 4\n",
      "Main process exiting.\n"
     ]
    }
   ],
   "source": [
    "#Q6. Write a python program to create 4 processes, each process should print a different number using the multiprocessing module in python.\n",
    "\n",
    "import multiprocessing\n",
    "\n",
    "def print_number(number):\n",
    "    \"\"\"Function to print a number.\"\"\"\n",
    "    print(f\"Process ID: {multiprocessing.current_process().pid}, Number: {number}\")\n",
    "\n",
    "if __name__ == \"__main__\":\n",
    "    processes = []\n",
    "\n",
    "    # Create 4 processes\n",
    "    for i in range(1, 5):\n",
    "        process = multiprocessing.Process(target=print_number, args=(i,))\n",
    "        processes.append(process)\n",
    "        process.start()\n",
    "\n",
    "    # Wait for all processes to finish\n",
    "    for process in processes:\n",
    "        process.join()\n",
    "\n",
    "    print(\"Main process exiting.\")\n"
   ]
  },
  {
   "cell_type": "code",
   "execution_count": null,
   "id": "c119d62b-2576-4a02-900f-1a94be2b2293",
   "metadata": {},
   "outputs": [],
   "source": []
  }
 ],
 "metadata": {
  "kernelspec": {
   "display_name": "Python 3 (ipykernel)",
   "language": "python",
   "name": "python3"
  },
  "language_info": {
   "codemirror_mode": {
    "name": "ipython",
    "version": 3
   },
   "file_extension": ".py",
   "mimetype": "text/x-python",
   "name": "python",
   "nbconvert_exporter": "python",
   "pygments_lexer": "ipython3",
   "version": "3.10.8"
  }
 },
 "nbformat": 4,
 "nbformat_minor": 5
}
